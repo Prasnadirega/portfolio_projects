{
 "cells": [
  {
   "cell_type": "code",
   "execution_count": null,
   "id": "939450bf-d674-45b5-b817-2e52a5b6d711",
   "metadata": {},
   "outputs": [],
   "source": [
    "#Decrypting Caesar's cipher"
   ]
  },
  {
   "cell_type": "code",
   "execution_count": 11,
   "id": "e4d0c3fb-cca6-4f77-ac71-9d9eefac1d60",
   "metadata": {},
   "outputs": [],
   "source": [
    "def decode(cipher, shift):\n",
    "    return ''.join(\n",
    "        chr((ord(x) - ord('a') + shift) % 26 + ord('a')) if x.isalpha() and x.islower() else x for x in cipher\n",
    "    )"
   ]
  },
  {
   "cell_type": "code",
   "execution_count": null,
   "id": "6cb7ea58-435d-46ad-a50c-56dd3f4021ff",
   "metadata": {},
   "outputs": [],
   "source": [
    "#Encrypting caesar's cipher"
   ]
  },
  {
   "cell_type": "code",
   "execution_count": 18,
   "id": "351043f5-c7fe-4917-aeeb-32187817222a",
   "metadata": {},
   "outputs": [],
   "source": [
    "def encode(cipher, shift):\n",
    "    return ''.join(\n",
    "        chr((ord(x) - ord('a') - shift) % 26 + ord('a')) if x.isalpha() and x.islower() else x for x in cipher\n",
    "    )"
   ]
  },
  {
   "cell_type": "code",
   "execution_count": null,
   "id": "f4a8960c-6397-4ce1-8a9d-92f5c54f699b",
   "metadata": {},
   "outputs": [],
   "source": [
    "# decoding and encoding some messages"
   ]
  },
  {
   "cell_type": "code",
   "execution_count": 13,
   "id": "a7062aa9-e088-432e-8897-83111d6ab98f",
   "metadata": {},
   "outputs": [
    {
     "name": "stdout",
     "output_type": "stream",
     "text": [
      " hey there! this is an example of a caesar cipher. were you able to decode it? i hope so! send me a message back with the same offset!\n"
     ]
    }
   ],
   "source": [
    "print(decode(\" xuo jxuhu! jxyi yi qd unqcfbu ev q squiqh syfxuh. muhu oek qrbu je tusetu yj? y xefu ie! iudt cu q cuiiqwu rqsa myjx jxu iqcu evviuj!\", 10))"
   ]
  },
  {
   "cell_type": "code",
   "execution_count": 24,
   "id": "9b429921-e3dc-45da-9dab-2066a89cf790",
   "metadata": {},
   "outputs": [
    {
     "name": "stdout",
     "output_type": "stream",
     "text": [
      "Txqda oek Vyixqb, rkj oek sekbt xqlu jebt cu jxu evviuj yi vehmqht dej rqsamqhti\n"
     ]
    }
   ],
   "source": [
    "print(encode(\"Thank you Vishal, but you could have told me the offset is forward not backwards\", 10))"
   ]
  },
  {
   "cell_type": "code",
   "execution_count": 25,
   "id": "bb472618-edca-4148-ab10-fde009cb461b",
   "metadata": {},
   "outputs": [
    {
     "name": "stdout",
     "output_type": "stream",
     "text": [
      "the offset for the second message is fourteen.\n"
     ]
    }
   ],
   "source": [
    "print(decode(\"jxu evviuj veh jxu iusedt cuiiqwu yi vekhjuud.\", 10))"
   ]
  },
  {
   "cell_type": "code",
   "execution_count": 27,
   "id": "045c022f-a586-4a7b-b1e7-31a66261eaff",
   "metadata": {},
   "outputs": [
    {
     "name": "stdout",
     "output_type": "stream",
     "text": [
      "performing multiple caesar ciphers to code your messages is even more secure!\n"
     ]
    }
   ],
   "source": [
    "print(decode(\"bqdradyuzs ygxfubxq omqemd oubtqde fa oapq kagd yqeemsqe ue qhqz yadq eqogdq!\", 14))"
   ]
  },
  {
   "cell_type": "code",
   "execution_count": 28,
   "id": "794a9dd6-4884-4b1b-b544-dbd085fc3d57",
   "metadata": {},
   "outputs": [],
   "source": [
    "#Decoding a caesar's cipher without knowing the offset"
   ]
  },
  {
   "cell_type": "code",
   "execution_count": 32,
   "id": "850d479b-fb4f-40f5-9996-4f0bbd559494",
   "metadata": {},
   "outputs": [
    {
     "name": "stdout",
     "output_type": "stream",
     "text": [
      "Shift : 0 Message: vhfinmxkl atox kxgwxkxw tee hy maxlx hew vbiaxkl hulhexmx. px'ee atox mh kxteer lmxi ni hnk ztfx by px ptgm mh dxxi hnk fxlltzxl ltyx.\n",
      "Shift : 1 Message: wigjonylm bupy lyhxylyx uff iz nbymy ifx wcjbylm ivmifyny. qy'ff bupy ni lyuffs mnyj oj iol augy cz qy quhn ni eyyj iol gymmuaym muzy.\n",
      "Shift : 2 Message: xjhkpozmn cvqz mziyzmzy vgg ja ocznz jgy xdkczmn jwnjgzoz. rz'gg cvqz oj mzvggt nozk pk jpm bvhz da rz rvio oj fzzk jpm hznnvbzn nvaz.\n",
      "Shift : 3 Message: ykilqpano dwra najzanaz whh kb pdaoa khz yeldano kxokhapa. sa'hh dwra pk nawhhu opal ql kqn cwia eb sa swjp pk gaal kqn iaoowcao owba.\n",
      "Shift : 4 Message: zljmrqbop exsb obkaboba xii lc qebpb lia zfmebop lyplibqb. tb'ii exsb ql obxiiv pqbm rm lro dxjb fc tb txkq ql hbbm lro jbppxdbp pxcb.\n",
      "Shift : 5 Message: amknsrcpq fytc pclbcpcb yjj md rfcqc mjb agnfcpq mzqmjcrc. uc'jj fytc rm pcyjjw qrcn sn msp eykc gd uc uylr rm iccn msp kcqqyecq qydc.\n",
      "Shift : 6 Message: bnlotsdqr gzud qdmcdqdc zkk ne sgdrd nkc bhogdqr narnkdsd. vd'kk gzud sn qdzkkx rsdo to ntq fzld he vd vzms sn jddo ntq ldrrzfdr rzed.\n",
      "Shift : 7 Message: computers have rendered all of these old ciphers obsolete. we'll have to really step up our game if we want to keep our messages safe.\n",
      "Shift : 8 Message: dpnqvufst ibwf sfoefsfe bmm pg uiftf pme djqifst pctpmfuf. xf'mm ibwf up sfbmmz tufq vq pvs hbnf jg xf xbou up lffq pvs nfttbhft tbgf.\n",
      "Shift : 9 Message: eqorwvgtu jcxg tgpfgtgf cnn qh vjgug qnf ekrjgtu qduqngvg. yg'nn jcxg vq tgcnna uvgr wr qwt icog kh yg ycpv vq mggr qwt oguucigu uchg.\n",
      "Shift : 10 Message: frpsxwhuv kdyh uhqghuhg doo ri wkhvh rog flskhuv revrohwh. zh'oo kdyh wr uhdoob vwhs xs rxu jdph li zh zdqw wr nhhs rxu phvvdjhv vdih.\n",
      "Shift : 11 Message: gsqtyxivw lezi virhivih epp sj xliwi sph gmtlivw sfwspixi. ai'pp lezi xs vieppc wxit yt syv keqi mj ai aerx xs oiit syv qiwwekiw weji.\n",
      "Shift : 12 Message: htruzyjwx mfaj wjsijwji fqq tk ymjxj tqi hnumjwx tgxtqjyj. bj'qq mfaj yt wjfqqd xyju zu tzw lfrj nk bj bfsy yt pjju tzw rjxxfljx xfkj.\n",
      "Shift : 13 Message: iusvazkxy ngbk xktjkxkj grr ul znkyk urj iovnkxy uhyurkzk. ck'rr ngbk zu xkgrre yzkv av uax mgsk ol ck cgtz zu qkkv uax skyygmky yglk.\n",
      "Shift : 14 Message: jvtwbalyz ohcl yluklylk hss vm aolzl vsk jpwolyz vizvslal. dl'ss ohcl av ylhssf zalw bw vby nhtl pm dl dhua av rllw vby tlzzhnlz zhml.\n",
      "Shift : 15 Message: kwuxcbmza pidm zmvlmzml itt wn bpmam wtl kqxpmza wjawtmbm. em'tt pidm bw zmittg abmx cx wcz oium qn em eivb bw smmx wcz umaaioma ainm.\n",
      "Shift : 16 Message: lxvydcnab qjen anwmnanm juu xo cqnbn xum lryqnab xkbxuncn. fn'uu qjen cx anjuuh bcny dy xda pjvn ro fn fjwc cx tnny xda vnbbjpnb bjon.\n",
      "Shift : 17 Message: mywzedobc rkfo boxnobon kvv yp droco yvn mszrobc ylcyvodo. go'vv rkfo dy bokvvi cdoz ez yeb qkwo sp go gkxd dy uooz yeb wocckqoc ckpo.\n",
      "Shift : 18 Message: nzxafepcd slgp cpyopcpo lww zq espdp zwo ntaspcd zmdzwpep. hp'ww slgp ez cplwwj depa fa zfc rlxp tq hp hlye ez vppa zfc xpddlrpd dlqp.\n",
      "Shift : 19 Message: oaybgfqde tmhq dqzpqdqp mxx ar ftqeq axp oubtqde aneaxqfq. iq'xx tmhq fa dqmxxk efqb gb agd smyq ur iq imzf fa wqqb agd yqeemsqe emrq.\n",
      "Shift : 20 Message: pbzchgref unir eraqrerq nyy bs gurfr byq pvcuref bofbyrgr. jr'yy unir gb ernyyl fgrc hc bhe tnzr vs jr jnag gb xrrc bhe zrffntrf fnsr.\n",
      "Shift : 21 Message: qcadihsfg vojs fsbrsfsr ozz ct hvsgs czr qwdvsfg cpgczshs. ks'zz vojs hc fsozzm ghsd id cif uoas wt ks kobh hc yssd cif asggousg gots.\n",
      "Shift : 22 Message: rdbejitgh wpkt gtcstgts paa du iwtht das rxewtgh dqhdatit. lt'aa wpkt id gtpaan hite je djg vpbt xu lt lpci id ztte djg bthhpvth hput.\n",
      "Shift : 23 Message: secfkjuhi xqlu hudtuhut qbb ev jxuiu ebt syfxuhi eriebuju. mu'bb xqlu je huqbbo ijuf kf ekh wqcu yv mu mqdj je auuf ekh cuiiqwui iqvu.\n",
      "Shift : 24 Message: tfdglkvij yrmv iveuvivu rcc fw kyvjv fcu tzgyvij fsjfcvkv. nv'cc yrmv kf ivrccp jkvg lg fli xrdv zw nv nrek kf bvvg fli dvjjrxvj jrwv.\n",
      "Shift : 25 Message: ugehmlwjk zsnw jwfvwjwv sdd gx lzwkw gdv uahzwjk gtkgdwlw. ow'dd zsnw lg jwsddq klwh mh gmj ysew ax ow osfl lg cwwh gmj ewkksywk ksxw.\n"
     ]
    }
   ],
   "source": [
    "for x in range(26):\n",
    "    decoded = decode(\"vhfinmxkl atox kxgwxkxw tee hy maxlx hew vbiaxkl hulhexmx. px\\'ee atox mh kxteer lmxi ni hnk ztfx by px ptgm mh dxxi hnk fxlltzxl ltyx.\", x)\n",
    "    print(f\"Shift : {x} Message: {decoded}\")"
   ]
  },
  {
   "cell_type": "code",
   "execution_count": 33,
   "id": "d2669f1f-dc59-4dbc-9437-9ba7c85e7e0a",
   "metadata": {},
   "outputs": [],
   "source": [
    "# the shift is 7 (assuming Vishal isnt a crazy person)"
   ]
  },
  {
   "cell_type": "code",
   "execution_count": 34,
   "id": "a4989ca6-5b23-4c69-8021-ea55c8aab5c3",
   "metadata": {},
   "outputs": [],
   "source": [
    "#Vigenere Cipher"
   ]
  },
  {
   "cell_type": "code",
   "execution_count": 17,
   "id": "a537213b-2a38-402a-9ef7-29e55d479d6e",
   "metadata": {},
   "outputs": [],
   "source": [
    "def decode_vigenere(cipher, key):\n",
    "    offset = ord('a')\n",
    "    key_index = 0\n",
    "    message = ''\n",
    "    key = key.lower()\n",
    "    for x in cipher:\n",
    "        if x.isalpha():\n",
    "            ord_x = ord(x) - offset\n",
    "            i = ord(key[key_index % len(key)]) - offset\n",
    "            decoded = chr((ord_x + i) % 26 + offset)\n",
    "            message += decoded\n",
    "            key_index += 1\n",
    "        else:\n",
    "            message += x\n",
    "    return message"
   ]
  },
  {
   "cell_type": "code",
   "execution_count": 18,
   "id": "09049ae6-c11c-43d3-9f07-2a1ddbbdeb9a",
   "metadata": {},
   "outputs": [
    {
     "name": "stdout",
     "output_type": "stream",
     "text": [
      "you were able to decode this? nice work! you are becoming quite the expert at cryptography!\n"
     ]
    }
   ],
   "source": [
    "print(decode_vigenere(\"txm srom vkda gl lzlgzr qpdb? fepb ejac! ubr imn tapludwy mhfbz cza ruxzal wg zztylktoikqq!\", \"friends\"))"
   ]
  },
  {
   "cell_type": "code",
   "execution_count": 19,
   "id": "8e06287c-d465-4570-9ad5-fb7a49196ea2",
   "metadata": {},
   "outputs": [],
   "source": [
    "def encode_vigenere(cipher, key):\n",
    "    offset = ord('a')\n",
    "    key_index = 0\n",
    "    message = ''\n",
    "    key = key.lower()\n",
    "    for x in cipher:\n",
    "        if x.isalpha():\n",
    "            ord_x = ord(x) - offset\n",
    "            i = ord(key[key_index % len(key)]) - offset\n",
    "            decoded = chr((ord_x - i) % 26 + offset)\n",
    "            message += decoded\n",
    "            key_index += 1\n",
    "        else:\n",
    "            message += x\n",
    "    return message"
   ]
  },
  {
   "cell_type": "code",
   "execution_count": 20,
   "id": "25a03eef-9fb4-4b6c-96a8-b86b81b8b078",
   "metadata": {},
   "outputs": [
    {
     "name": "stdout",
     "output_type": "stream",
     "text": [
      "im still not over her\n"
     ]
    }
   ],
   "source": [
    "print(decode_vigenere(encode_vigenere(\"im still not over her\", 'blur'), 'blur'))"
   ]
  },
  {
   "cell_type": "code",
   "execution_count": null,
   "id": "e69757f2-f773-4a38-bf1f-59022167e229",
   "metadata": {},
   "outputs": [],
   "source": []
  }
 ],
 "metadata": {
  "kernelspec": {
   "display_name": "Python 3 (ipykernel)",
   "language": "python",
   "name": "python3"
  },
  "language_info": {
   "codemirror_mode": {
    "name": "ipython",
    "version": 3
   },
   "file_extension": ".py",
   "mimetype": "text/x-python",
   "name": "python",
   "nbconvert_exporter": "python",
   "pygments_lexer": "ipython3",
   "version": "3.13.3"
  }
 },
 "nbformat": 4,
 "nbformat_minor": 5
}
