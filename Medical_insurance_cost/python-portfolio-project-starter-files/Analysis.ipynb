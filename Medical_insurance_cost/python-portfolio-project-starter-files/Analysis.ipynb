{
 "cells": [
  {
   "cell_type": "code",
   "execution_count": 3,
   "id": "e943bcc2-3c86-4514-8508-536d357b5af1",
   "metadata": {},
   "outputs": [],
   "source": [
    "import os\n",
    "import pandas as pd\n",
    "import matplotlib.pyplot as plt"
   ]
  },
  {
   "cell_type": "code",
   "execution_count": 4,
   "id": "e4a1151f-e846-4693-8ed6-41057365da46",
   "metadata": {},
   "outputs": [
    {
     "data": {
      "text/plain": [
       "'E:\\\\Others\\\\Coding\\\\Python\\\\Jupyter\\\\Scripts\\\\Med_insurance_costs'"
      ]
     },
     "execution_count": 4,
     "metadata": {},
     "output_type": "execute_result"
    }
   ],
   "source": [
    "os.getcwd()"
   ]
  },
  {
   "cell_type": "code",
   "execution_count": 5,
   "id": "5f36441f-d23a-47d4-bb5e-9d8f7cc90f09",
   "metadata": {},
   "outputs": [],
   "source": [
    "os.chdir(r\"E:\\Others\\Coding\\Codecademy\\Portfolio\\portfolio_projects\\Medical_insurance_cost\\python-portfolio-project-starter-files\")"
   ]
  },
  {
   "cell_type": "code",
   "execution_count": 6,
   "id": "06323fb7-907b-4703-8f56-3077b777e5e7",
   "metadata": {},
   "outputs": [
    {
     "data": {
      "text/plain": [
       "'E:\\\\Others\\\\Coding\\\\Codecademy\\\\Portfolio\\\\portfolio_projects\\\\Medical_insurance_cost\\\\python-portfolio-project-starter-files'"
      ]
     },
     "execution_count": 6,
     "metadata": {},
     "output_type": "execute_result"
    }
   ],
   "source": [
    "os.getcwd()"
   ]
  },
  {
   "cell_type": "code",
   "execution_count": 7,
   "id": "7483e8c2-2def-4d5a-beb0-bbbc51429e43",
   "metadata": {},
   "outputs": [],
   "source": [
    "df = pd.read_csv('insurance.csv')"
   ]
  },
  {
   "cell_type": "code",
   "execution_count": 8,
   "id": "7c950208-7e4f-4cd3-b89a-a66e0164ab29",
   "metadata": {},
   "outputs": [
    {
     "name": "stdout",
     "output_type": "stream",
     "text": [
      "<class 'pandas.core.frame.DataFrame'>\n",
      "RangeIndex: 1338 entries, 0 to 1337\n",
      "Data columns (total 7 columns):\n",
      " #   Column    Non-Null Count  Dtype  \n",
      "---  ------    --------------  -----  \n",
      " 0   age       1338 non-null   int64  \n",
      " 1   sex       1338 non-null   object \n",
      " 2   bmi       1338 non-null   float64\n",
      " 3   children  1338 non-null   int64  \n",
      " 4   smoker    1338 non-null   object \n",
      " 5   region    1338 non-null   object \n",
      " 6   charges   1338 non-null   float64\n",
      "dtypes: float64(2), int64(2), object(3)\n",
      "memory usage: 73.3+ KB\n"
     ]
    }
   ],
   "source": [
    "df.info()"
   ]
  },
  {
   "cell_type": "code",
   "execution_count": 9,
   "id": "af2e12fe-6d95-4651-a34d-a1288bf28270",
   "metadata": {},
   "outputs": [
    {
     "data": {
      "text/html": [
       "<div>\n",
       "<style scoped>\n",
       "    .dataframe tbody tr th:only-of-type {\n",
       "        vertical-align: middle;\n",
       "    }\n",
       "\n",
       "    .dataframe tbody tr th {\n",
       "        vertical-align: top;\n",
       "    }\n",
       "\n",
       "    .dataframe thead th {\n",
       "        text-align: right;\n",
       "    }\n",
       "</style>\n",
       "<table border=\"1\" class=\"dataframe\">\n",
       "  <thead>\n",
       "    <tr style=\"text-align: right;\">\n",
       "      <th></th>\n",
       "      <th>age</th>\n",
       "      <th>sex</th>\n",
       "      <th>bmi</th>\n",
       "      <th>children</th>\n",
       "      <th>smoker</th>\n",
       "      <th>region</th>\n",
       "      <th>charges</th>\n",
       "    </tr>\n",
       "  </thead>\n",
       "  <tbody>\n",
       "    <tr>\n",
       "      <th>0</th>\n",
       "      <td>19</td>\n",
       "      <td>female</td>\n",
       "      <td>27.900</td>\n",
       "      <td>0</td>\n",
       "      <td>yes</td>\n",
       "      <td>southwest</td>\n",
       "      <td>16884.92400</td>\n",
       "    </tr>\n",
       "    <tr>\n",
       "      <th>1</th>\n",
       "      <td>18</td>\n",
       "      <td>male</td>\n",
       "      <td>33.770</td>\n",
       "      <td>1</td>\n",
       "      <td>no</td>\n",
       "      <td>southeast</td>\n",
       "      <td>1725.55230</td>\n",
       "    </tr>\n",
       "    <tr>\n",
       "      <th>2</th>\n",
       "      <td>28</td>\n",
       "      <td>male</td>\n",
       "      <td>33.000</td>\n",
       "      <td>3</td>\n",
       "      <td>no</td>\n",
       "      <td>southeast</td>\n",
       "      <td>4449.46200</td>\n",
       "    </tr>\n",
       "    <tr>\n",
       "      <th>3</th>\n",
       "      <td>33</td>\n",
       "      <td>male</td>\n",
       "      <td>22.705</td>\n",
       "      <td>0</td>\n",
       "      <td>no</td>\n",
       "      <td>northwest</td>\n",
       "      <td>21984.47061</td>\n",
       "    </tr>\n",
       "    <tr>\n",
       "      <th>4</th>\n",
       "      <td>32</td>\n",
       "      <td>male</td>\n",
       "      <td>28.880</td>\n",
       "      <td>0</td>\n",
       "      <td>no</td>\n",
       "      <td>northwest</td>\n",
       "      <td>3866.85520</td>\n",
       "    </tr>\n",
       "  </tbody>\n",
       "</table>\n",
       "</div>"
      ],
      "text/plain": [
       "   age     sex     bmi  children smoker     region      charges\n",
       "0   19  female  27.900         0    yes  southwest  16884.92400\n",
       "1   18    male  33.770         1     no  southeast   1725.55230\n",
       "2   28    male  33.000         3     no  southeast   4449.46200\n",
       "3   33    male  22.705         0     no  northwest  21984.47061\n",
       "4   32    male  28.880         0     no  northwest   3866.85520"
      ]
     },
     "execution_count": 9,
     "metadata": {},
     "output_type": "execute_result"
    }
   ],
   "source": [
    "df.head()"
   ]
  },
  {
   "cell_type": "code",
   "execution_count": null,
   "id": "c2e76cd0-7d25-4896-b180-9318805c25c2",
   "metadata": {},
   "outputs": [],
   "source": []
  },
  {
   "cell_type": "code",
   "execution_count": 10,
   "id": "3176e673-6559-49bf-a7a9-3535870d8715",
   "metadata": {},
   "outputs": [],
   "source": [
    "def avg_by_gender(df):\n",
    "    avg_charges = df.groupby('sex')['charges'].mean()\n",
    "    male = avg_charges.get('male')\n",
    "    female = avg_charges.get('female')\n",
    "    print(f\"The average male gets charged {male} for insurance.\")\n",
    "    print(f\"The avrage female gets charged {female} for insurance.\")"
   ]
  },
  {
   "cell_type": "code",
   "execution_count": 11,
   "id": "0050595c-71c2-4c61-b80f-f24dd4380a74",
   "metadata": {},
   "outputs": [
    {
     "name": "stdout",
     "output_type": "stream",
     "text": [
      "The average male gets charged 13956.751177721893 for insurance.\n",
      "The avrage female gets charged 12569.578843835347 for insurance.\n"
     ]
    }
   ],
   "source": [
    "avg_by_gender(df)"
   ]
  },
  {
   "cell_type": "code",
   "execution_count": 12,
   "id": "ca1bf052-0590-4229-bc1b-898e614fe2fe",
   "metadata": {},
   "outputs": [],
   "source": [
    "def avg_by_smoker(df):\n",
    "    avg_by_smoker = df.groupby('smoker')['charges'].mean()\n",
    "    price_difference = avg_by_smoker.get('yes') / avg_by_smoker.get('no')\n",
    "    print(f'So on average smokers pay {price_difference} times more insurance than non smokers.')"
   ]
  },
  {
   "cell_type": "code",
   "execution_count": 13,
   "id": "96bbfa9d-d066-466e-b81e-55215f32850d",
   "metadata": {},
   "outputs": [
    {
     "name": "stdout",
     "output_type": "stream",
     "text": [
      "So on average smokers pay 3.800001458298319 times more insurance than non smokers.\n"
     ]
    }
   ],
   "source": [
    "avg_by_smoker(df)"
   ]
  },
  {
   "cell_type": "code",
   "execution_count": 14,
   "id": "332c8a1a-8bd9-4ec4-a883-c19330d96fd0",
   "metadata": {},
   "outputs": [],
   "source": [
    "#so dont smoke for cheap insurance guys."
   ]
  },
  {
   "cell_type": "code",
   "execution_count": 15,
   "id": "f56479fb-e75d-4bfd-874a-e5ca02c8c59d",
   "metadata": {},
   "outputs": [],
   "source": [
    "def age_info(df):\n",
    "    avg_age = sum(df['age']) / len(df)\n",
    "    max_age = max(df['age'])\n",
    "    min_age = min(df['age']) \n",
    "    return f'The average age is {avg_age} with a maximum age of {max_age} and a minimum age of {min_age}.'"
   ]
  },
  {
   "cell_type": "code",
   "execution_count": 16,
   "id": "407819e4-3e39-4b8a-b77b-cabc81796b9e",
   "metadata": {},
   "outputs": [
    {
     "data": {
      "text/plain": [
       "'The average age is 39.20702541106129 with a maximum age of 64 and a minimum age of 18.'"
      ]
     },
     "execution_count": 16,
     "metadata": {},
     "output_type": "execute_result"
    }
   ],
   "source": [
    "age_info(df)"
   ]
  },
  {
   "cell_type": "code",
   "execution_count": 27,
   "id": "dc7d5c2b-75c3-4cb8-82bc-f7ffc7dda453",
   "metadata": {},
   "outputs": [
    {
     "data": {
      "text/plain": [
       "'The average person has 1.0949177877429 children'"
      ]
     },
     "execution_count": 27,
     "metadata": {},
     "output_type": "execute_result"
    }
   ],
   "source": [
    "def children_info(df):\n",
    "    avg_kid = sum(df['children']) / len(df)\n",
    "    return f'The average person has {avg_kid} children'\n",
    "children_info(df)"
   ]
  },
  {
   "cell_type": "code",
   "execution_count": 28,
   "id": "5e65f399-bf9b-49f8-9efe-f240aa123f8c",
   "metadata": {},
   "outputs": [
    {
     "data": {
      "text/plain": [
       "(region\n",
       " northeast    324\n",
       " northwest    325\n",
       " southeast    364\n",
       " southwest    325\n",
       " Name: age, dtype: int64,\n",
       " 'The most populous region is southeast')"
      ]
     },
     "execution_count": 28,
     "metadata": {},
     "output_type": "execute_result"
    }
   ],
   "source": [
    "def region_info(df):\n",
    "    region = df.groupby('region')['age'].count()\n",
    "    max_region = region.idxmax()\n",
    "    return region, f\"The most populous region is {max_region}\"\n",
    "region_info(df)"
   ]
  },
  {
   "cell_type": "code",
   "execution_count": 63,
   "id": "b3d38e7b-13e1-4414-9770-48dcaf8c6e93",
   "metadata": {},
   "outputs": [],
   "source": [
    "def avg_age_kids(df):\n",
    "    with_kids = df[df['children'] >= 1]\n",
    "    return with_kids['age'].sum() / with_kids['age'].count()"
   ]
  },
  {
   "cell_type": "code",
   "execution_count": 64,
   "id": "faae8c9d-ab0a-4f92-8290-5c4c411fd129",
   "metadata": {},
   "outputs": [
    {
     "name": "stdout",
     "output_type": "stream",
     "text": [
      "39.78010471204188\n"
     ]
    }
   ],
   "source": [
    "print(avg_age_kids(df))\n"
   ]
  },
  {
   "cell_type": "code",
   "execution_count": 66,
   "id": "479520f4-ad77-49f9-baec-3bf3da979dec",
   "metadata": {},
   "outputs": [
    {
     "name": "stdout",
     "output_type": "stream",
     "text": [
      "<class 'pandas.core.frame.DataFrame'>\n",
      "RangeIndex: 1338 entries, 0 to 1337\n",
      "Data columns (total 7 columns):\n",
      " #   Column    Non-Null Count  Dtype  \n",
      "---  ------    --------------  -----  \n",
      " 0   age       1338 non-null   int64  \n",
      " 1   sex       1338 non-null   object \n",
      " 2   bmi       1338 non-null   float64\n",
      " 3   children  1338 non-null   int64  \n",
      " 4   smoker    1338 non-null   object \n",
      " 5   region    1338 non-null   object \n",
      " 6   charges   1338 non-null   float64\n",
      "dtypes: float64(2), int64(2), object(3)\n",
      "memory usage: 73.3+ KB\n"
     ]
    }
   ],
   "source": [
    "df.info()"
   ]
  },
  {
   "cell_type": "code",
   "execution_count": 69,
   "id": "2801c715-4141-4dd5-850f-f83d6205cba1",
   "metadata": {},
   "outputs": [],
   "source": [
    "#Variables\n",
    "age = df['age']\n",
    "sex = df['sex']\n",
    "bmi = df['bmi']\n",
    "children = df['children']\n",
    "smoker = df['smoker']\n",
    "region = df['region']\n",
    "charges = df['charges']"
   ]
  },
  {
   "cell_type": "code",
   "execution_count": null,
   "id": "5e799799-a5ca-47c2-b448-3532502da925",
   "metadata": {},
   "outputs": [],
   "source": []
  }
 ],
 "metadata": {
  "kernelspec": {
   "display_name": "Python 3 (ipykernel)",
   "language": "python",
   "name": "python3"
  },
  "language_info": {
   "codemirror_mode": {
    "name": "ipython",
    "version": 3
   },
   "file_extension": ".py",
   "mimetype": "text/x-python",
   "name": "python",
   "nbconvert_exporter": "python",
   "pygments_lexer": "ipython3",
   "version": "3.13.3"
  }
 },
 "nbformat": 4,
 "nbformat_minor": 5
}
