{
 "cells": [
  {
   "cell_type": "code",
   "execution_count": 3,
   "id": "8cde4afc-9b7d-434a-ba0e-8239b4fb2a53",
   "metadata": {},
   "outputs": [],
   "source": [
    "age = 28\n",
    "sex = 0\n",
    "bmi = 26.2\n",
    "num_of_children = 3\n",
    "smoker = 0"
   ]
  },
  {
   "cell_type": "code",
   "execution_count": 4,
   "id": "f03a9de1-6949-4475-a545-90cd54671658",
   "metadata": {},
   "outputs": [],
   "source": [
    "insurance_cost = (250*age) - (128*sex) + (370*bmi) + (425*num_of_children) + (24000*smoker) - 125000"
   ]
  },
  {
   "cell_type": "code",
   "execution_count": 8,
   "id": "9bc96b8d-561e-4ce6-a0d7-811be3ce9826",
   "metadata": {},
   "outputs": [
    {
     "name": "stdout",
     "output_type": "stream",
     "text": [
      "This person's insurance cost is -107031.0 dollars\n"
     ]
    }
   ],
   "source": [
    "print(\"This person's insurance cost is \" + str(insurance_cost) + \" dollars\")"
   ]
  },
  {
   "cell_type": "code",
   "execution_count": 9,
   "id": "080e3be9-f200-4a67-9054-0d9386e308da",
   "metadata": {},
   "outputs": [],
   "source": [
    "age += 4"
   ]
  },
  {
   "cell_type": "code",
   "execution_count": 10,
   "id": "daad9586-c886-4fa4-87ce-05145dd2c97f",
   "metadata": {},
   "outputs": [],
   "source": [
    "new_insurance_cost = (250*age) - (128*sex) + (370*bmi) + (425*num_of_children) + (24000*smoker) - 125000"
   ]
  },
  {
   "cell_type": "code",
   "execution_count": 11,
   "id": "6fb73d1d-4f3d-41ed-bde8-b90d280cdff3",
   "metadata": {},
   "outputs": [
    {
     "name": "stdout",
     "output_type": "stream",
     "text": [
      "This person's insurance cost is -106031.0 dollars\n"
     ]
    }
   ],
   "source": [
    "print(\"This person's insurance cost is \" + str(new_insurance_cost) + \" dollars\")"
   ]
  },
  {
   "cell_type": "code",
   "execution_count": 12,
   "id": "43ba1085-ef25-4ccf-9f26-cd1ab7cd6d43",
   "metadata": {},
   "outputs": [],
   "source": [
    "change_in_insurance_cost = new_insurance_cost - insurance_cost"
   ]
  },
  {
   "cell_type": "code",
   "execution_count": 13,
   "id": "41f2ee52-f957-45ac-99dd-b3df7d667894",
   "metadata": {},
   "outputs": [
    {
     "name": "stdout",
     "output_type": "stream",
     "text": [
      "The change in cost of insurance after increasing the age by 4 years is 1000.0 dollars\n"
     ]
    }
   ],
   "source": [
    "print(\"The change in cost of insurance after increasing the age by 4 years is \" + str(change_in_insurance_cost) + \" dollars\")"
   ]
  },
  {
   "cell_type": "code",
   "execution_count": 14,
   "id": "e9819532-ed9f-487e-8a37-54793581615d",
   "metadata": {},
   "outputs": [],
   "source": [
    "age = 28"
   ]
  },
  {
   "cell_type": "code",
   "execution_count": 15,
   "id": "57d0af34-880b-4730-858e-b20aff56b491",
   "metadata": {},
   "outputs": [],
   "source": [
    "bmi += 3.1"
   ]
  },
  {
   "cell_type": "code",
   "execution_count": 16,
   "id": "ace71431-90a6-4c74-a315-9497bb7032c8",
   "metadata": {},
   "outputs": [],
   "source": [
    "new_insurance_cost = (250*age) - (128*sex) + (370*bmi) + (425*num_of_children) + (24000*smoker) - 125000"
   ]
  },
  {
   "cell_type": "code",
   "execution_count": 17,
   "id": "099fba7f-ea5c-4be1-a061-6dcd2ed353c8",
   "metadata": {},
   "outputs": [],
   "source": [
    "change_in_insurance_cost = new_insurance_cost - insurance_cost"
   ]
  },
  {
   "cell_type": "code",
   "execution_count": 18,
   "id": "ee71fec9-906b-4a7a-b504-4a6fb678e5c7",
   "metadata": {},
   "outputs": [
    {
     "name": "stdout",
     "output_type": "stream",
     "text": [
      "The change in cost of insurance after increasing the BMI by 3.1 years is 1147.0 dollars\n"
     ]
    }
   ],
   "source": [
    "print(\"The change in cost of insurance after increasing the BMI by 3.1 years is \" + str(change_in_insurance_cost) + \" dollars\")"
   ]
  },
  {
   "cell_type": "code",
   "execution_count": 19,
   "id": "d2e4f58a-cda5-4975-85a8-b8a301938076",
   "metadata": {},
   "outputs": [],
   "source": [
    "bmi = 26.2"
   ]
  },
  {
   "cell_type": "code",
   "execution_count": 20,
   "id": "212eb240-af04-470b-859e-4eba2c7b14f3",
   "metadata": {},
   "outputs": [],
   "source": [
    "sex = 1"
   ]
  },
  {
   "cell_type": "code",
   "execution_count": 21,
   "id": "2c8c517c-3e9e-49dd-aa03-8e2333c3e6fe",
   "metadata": {},
   "outputs": [],
   "source": [
    "new_insurance_cost = (250*age) - (128*sex) + (370*bmi) + (425*num_of_children) + (24000*smoker) - 125000"
   ]
  },
  {
   "cell_type": "code",
   "execution_count": 22,
   "id": "42adb0c0-6b17-44ef-859d-4d86f057c775",
   "metadata": {},
   "outputs": [],
   "source": [
    "change_in_insurance_cost = new_insurance_cost - insurance_cost"
   ]
  },
  {
   "cell_type": "code",
   "execution_count": 23,
   "id": "83b06764-5454-4d68-b541-1f07e4537ebd",
   "metadata": {},
   "outputs": [
    {
     "name": "stdout",
     "output_type": "stream",
     "text": [
      "The change in cost of insurance after changing the sex to male is -128.0 dollars\n"
     ]
    }
   ],
   "source": [
    "print(\"The change in cost of insurance after changing the sex to male is \" + str(change_in_insurance_cost) + \" dollars\")"
   ]
  },
  {
   "cell_type": "code",
   "execution_count": null,
   "id": "aad9f07d-ad77-4376-a4a2-441e11abbf89",
   "metadata": {},
   "outputs": [],
   "source": []
  }
 ],
 "metadata": {
  "kernelspec": {
   "display_name": "Python 3 (ipykernel)",
   "language": "python",
   "name": "python3"
  },
  "language_info": {
   "codemirror_mode": {
    "name": "ipython",
    "version": 3
   },
   "file_extension": ".py",
   "mimetype": "text/x-python",
   "name": "python",
   "nbconvert_exporter": "python",
   "pygments_lexer": "ipython3",
   "version": "3.13.3"
  }
 },
 "nbformat": 4,
 "nbformat_minor": 5
}
